{
  "cells": [
    {
      "cell_type": "markdown",
      "metadata": {},
      "source": [
        "- Traget: Add Batch Normalization to increase the model's accuracy\n",
        "- Results: \n",
        "    - Parameters : 7348\n",
        "    - Best Train accuracy : 80.05\n",
        "    - Best Test accuracy : 79.25\n",
        "- Analysis: \n",
        "    - This modes is overfitting\n",
        "    - The accuracy is too low"
      ]
    },
    {
      "cell_type": "markdown",
      "metadata": {
        "id": "aO-7t1Y7-hV4"
      },
      "source": [
        "# Import Libraries"
      ]
    },
    {
      "cell_type": "code",
      "execution_count": 3,
      "metadata": {
        "id": "8kH16rnZ7wt_"
      },
      "outputs": [],
      "source": [
        "from __future__ import print_function\n",
        "import torch\n",
        "import torch.nn as nn\n",
        "import torch.nn.functional as F\n",
        "import torch.optim as optim\n",
        "from torchvision import datasets, transforms\n",
        "%matplotlib inline\n",
        "import matplotlib.pyplot as plt\n",
        "import models\n",
        "import warnings\n",
        "warnings.filterwarnings(\"ignore\")\n"
      ]
    },
    {
      "cell_type": "markdown",
      "metadata": {},
      "source": [
        "### Calculating the mean and std dev. of the dataset"
      ]
    },
    {
      "cell_type": "code",
      "execution_count": 2,
      "metadata": {},
      "outputs": [],
      "source": [
        "tensor_transforms = transforms.Compose([transforms.ToTensor()])\n",
        "\n",
        "exp = datasets.MNIST('./data', train=True, download=True, transform=tensor_transforms)"
      ]
    },
    {
      "cell_type": "code",
      "execution_count": 3,
      "metadata": {},
      "outputs": [
        {
          "name": "stdout",
          "output_type": "stream",
          "text": [
            "torch.Size([60000, 28, 28])\n",
            "torch.Size([60000, 28, 28])\n"
          ]
        }
      ],
      "source": [
        "exp_train_data = exp.train_data\n",
        "exp_test_data = exp.test_data\n",
        "print(exp_train_data.shape)\n",
        "print(exp_test_data.shape)\n"
      ]
    },
    {
      "cell_type": "code",
      "execution_count": 4,
      "metadata": {},
      "outputs": [
        {
          "name": "stdout",
          "output_type": "stream",
          "text": [
            "[Train]\n",
            " - Numpy Shape: (60000, 28, 28)\n",
            " - Tensor Shape: torch.Size([60000, 28, 28])\n",
            " - min: tensor(0.)\n",
            " - max: tensor(1.)\n",
            " - mean: tensor(0.1307)\n",
            " - std: tensor(0.3081)\n",
            " - var: tensor(0.0949)\n"
          ]
        }
      ],
      "source": [
        "exp_train_data = exp.transform(exp_train_data.numpy())\n",
        "print('[Train]')\n",
        "print(' - Numpy Shape:', exp.train_data.cpu().numpy().shape)\n",
        "print(' - Tensor Shape:', exp.train_data.size())\n",
        "print(' - min:', torch.min(exp_train_data))\n",
        "print(' - max:', torch.max(exp_train_data))\n",
        "print(' - mean:', torch.mean(exp_train_data))\n",
        "print(' - std:', torch.std(exp_train_data))\n",
        "print(' - var:', torch.var(exp_train_data))"
      ]
    },
    {
      "cell_type": "markdown",
      "metadata": {
        "id": "ky3f_Odl-7um"
      },
      "source": [
        "## Data Transformations\n",
        "\n",
        "We first start with defining our data transformations. We need to think what our data is and how can we augment it to correct represent images which it might not see otherwise.\n"
      ]
    },
    {
      "cell_type": "code",
      "execution_count": 5,
      "metadata": {
        "id": "YtssFUKb-jqx"
      },
      "outputs": [],
      "source": [
        "# Train transformations (No other augmentations are added)\n",
        "train_transforms = transforms.Compose([\n",
        "    transforms.ToTensor(),  # Convert to tensor first before erasing \n",
        "    transforms.Normalize((0.1307,), (0.3081,)) # Normalize it with mean and std dev of train_data. \n",
        "])\n",
        "\n",
        "# Test transformations\n",
        "test_transforms = transforms.Compose([\n",
        "    transforms.ToTensor(),\n",
        "    transforms.Normalize((0.1307,), (0.3081,)) # use the train data's mean and std dev\n",
        "])\n",
        "\n"
      ]
    },
    {
      "cell_type": "markdown",
      "metadata": {
        "id": "oQciFYo2B1mO"
      },
      "source": [
        "# Dataset and Creating Train/Test Split"
      ]
    },
    {
      "cell_type": "code",
      "execution_count": 6,
      "metadata": {
        "colab": {
          "base_uri": "https://localhost:8080/"
        },
        "id": "_4A84rlfDA23",
        "outputId": "2cc0a4ce-205a-4bdf-ffb7-753398ed571f"
      },
      "outputs": [],
      "source": [
        "train = datasets.MNIST('./data', train=True, download=True, transform=train_transforms) # downloading the train data and applying train transforms\n",
        "test = datasets.MNIST('./data', train=False, download=True, transform=test_transforms) # downloading the test data and applying test transforms"
      ]
    },
    {
      "cell_type": "markdown",
      "metadata": {
        "id": "qgldp_3-Dn0c"
      },
      "source": [
        "# Dataloader Arguments & Test/Train Dataloaders\n"
      ]
    },
    {
      "cell_type": "code",
      "execution_count": 7,
      "metadata": {
        "colab": {
          "base_uri": "https://localhost:8080/"
        },
        "id": "C8OLDR79DrHG",
        "outputId": "66a9b95a-92e4-4194-c6a4-878b0ac5942a"
      },
      "outputs": [
        {
          "name": "stdout",
          "output_type": "stream",
          "text": [
            "Using device: cpu\n"
          ]
        }
      ],
      "source": [
        "SEED = 42\n",
        "\n",
        "# To check if we are using GPU or CPU\n",
        "device = torch.device(\"cuda\" if torch.cuda.is_available() else \"cpu\")\n",
        "print(f\"Using device: {device}\")\n",
        "\n",
        "# For reproducibility\n",
        "torch.manual_seed(SEED)\n",
        "\n",
        "if device == \"cuda\":\n",
        "    torch.cuda.manual_seed(SEED)\n",
        "\n",
        "\n",
        "dataloader_args = dict(shuffle=True, batch_size=128, num_workers=-1, pin_memory=True) if device == \"cuda\" else dict(shuffle=True, batch_size=64)\n",
        "\n",
        "# train dataloader\n",
        "train_loader = torch.utils.data.DataLoader(train, **dataloader_args)\n",
        "\n",
        "# test dataloader\n",
        "test_loader = torch.utils.data.DataLoader(test, **dataloader_args)"
      ]
    },
    {
      "cell_type": "markdown",
      "metadata": {
        "id": "ubQL3H6RJL3h"
      },
      "source": [
        "# The model\n"
      ]
    },
    {
      "cell_type": "code",
      "execution_count": 8,
      "metadata": {
        "id": "7FXQlB9kH1ov"
      },
      "outputs": [],
      "source": [
        "\n",
        "\n",
        "# class Net(nn.Module):\n",
        "#     def __init__(self):\n",
        "#         super(Net, self).__init__()\n",
        "        \n",
        "#         # Input Block - RF: 3\n",
        "#         self.convblock1 = nn.Sequential(\n",
        "#             nn.Conv2d(1, 8, 3, padding=1, bias=False),  # RF: 3\n",
        "#             nn.ReLU(),\n",
        "#         )\n",
        "\n",
        "#         # Conv Block 1 - RF: 5\n",
        "#         self.convblock2 = nn.Sequential(\n",
        "#             nn.Conv2d(8, 8, 3, padding=1, bias=False),  # RF: 5\n",
        "#             nn.ReLU(),\n",
        "#         )\n",
        "\n",
        "#         # Transition Block 1 - RF: 6\n",
        "#         self.pool1 = nn.MaxPool2d(2, 2)  # RF: 6\n",
        "#         self.convblock3 = nn.Sequential(\n",
        "#             nn.Conv2d(8, 12, 1, bias=False),  # RF: 6\n",
        "#             nn.ReLU(),\n",
        "#         )\n",
        "\n",
        "#         # Conv Block 2 - RF: 14\n",
        "#         self.convblock4 = nn.Sequential(\n",
        "#             nn.Conv2d(12, 12, 3, padding=1, bias=False),  # RF: 10\n",
        "#             nn.ReLU(),\n",
        "#             nn.Conv2d(12, 12, 3, padding=1, bias=False),  # RF: 14\n",
        "#             nn.ReLU(),\n",
        "#         )\n",
        "\n",
        "#         # Transition Block 2 - RF: 16\n",
        "#         self.pool2 = nn.MaxPool2d(2, 2)  # RF: 16\n",
        "#         self.convblock5 = nn.Sequential(\n",
        "#             nn.Conv2d(12, 12, 1, bias=False),  # RF: 16\n",
        "#             nn.ReLU(),\n",
        "#         )\n",
        "\n",
        "#         # Conv Block 3 - RF: 28\n",
        "#         self.convblock6 = nn.Sequential(\n",
        "#             nn.Conv2d(12, 12, 3, padding=1, bias=False),  # RF: 20\n",
        "#             nn.ReLU(),\n",
        "#             nn.Conv2d(12, 12, 3, padding=1, bias=False),  # RF: 24\n",
        "#             nn.ReLU(),\n",
        "#             nn.Conv2d(12, 10, 3, padding=1, bias=False),  # RF: 28\n",
        "#             nn.ReLU(),\n",
        "#         )\n",
        "\n",
        "#         self.gap = nn.AdaptiveAvgPool2d(1)\n",
        "\n",
        "#     def forward(self, x):\n",
        "#         x = self.convblock1(x)\n",
        "#         x = self.convblock2(x)\n",
        "#         x = self.pool1(x)\n",
        "#         x = self.convblock3(x)\n",
        "#         x = self.convblock4(x)\n",
        "#         x = self.pool2(x)\n",
        "#         x = self.convblock5(x)\n",
        "#         x = self.convblock6(x)\n",
        "#         x = self.gap(x)\n",
        "#         x = x.view(-1, 10)\n",
        "#         return F.log_softmax(x, dim=-1)\n",
        "    \n",
        "\n",
        "       \n",
        "\n"
      ]
    },
    {
      "cell_type": "markdown",
      "metadata": {
        "id": "M3-vp8X9LCWo"
      },
      "source": [
        "# Model Params\n"
      ]
    },
    {
      "cell_type": "code",
      "execution_count": 9,
      "metadata": {
        "colab": {
          "base_uri": "https://localhost:8080/"
        },
        "id": "5skB97zIJQQe",
        "outputId": "b1fe5230-279d-40c4-a500-49eb192cd239"
      },
      "outputs": [
        {
          "name": "stdout",
          "output_type": "stream",
          "text": [
            "Requirement already satisfied: torchsummary in c:\\users\\chaitra.saik\\appdata\\local\\miniconda3\\lib\\site-packages (1.5.1)\n",
            "cpu\n",
            "----------------------------------------------------------------\n",
            "        Layer (type)               Output Shape         Param #\n",
            "================================================================\n",
            "            Conv2d-1            [-1, 8, 28, 28]              72\n",
            "              ReLU-2            [-1, 8, 28, 28]               0\n",
            "            Conv2d-3            [-1, 8, 28, 28]             576\n",
            "              ReLU-4            [-1, 8, 28, 28]               0\n",
            "         MaxPool2d-5            [-1, 8, 14, 14]               0\n",
            "            Conv2d-6           [-1, 12, 14, 14]              96\n",
            "              ReLU-7           [-1, 12, 14, 14]               0\n",
            "            Conv2d-8           [-1, 12, 14, 14]           1,296\n",
            "              ReLU-9           [-1, 12, 14, 14]               0\n",
            "           Conv2d-10           [-1, 12, 14, 14]           1,296\n",
            "             ReLU-11           [-1, 12, 14, 14]               0\n",
            "        MaxPool2d-12             [-1, 12, 7, 7]               0\n",
            "           Conv2d-13             [-1, 12, 7, 7]             144\n",
            "             ReLU-14             [-1, 12, 7, 7]               0\n",
            "           Conv2d-15             [-1, 12, 7, 7]           1,296\n",
            "             ReLU-16             [-1, 12, 7, 7]               0\n",
            "           Conv2d-17             [-1, 12, 7, 7]           1,296\n",
            "             ReLU-18             [-1, 12, 7, 7]               0\n",
            "           Conv2d-19             [-1, 10, 7, 7]           1,080\n",
            "             ReLU-20             [-1, 10, 7, 7]               0\n",
            "AdaptiveAvgPool2d-21             [-1, 10, 1, 1]               0\n",
            "================================================================\n",
            "Total params: 7,152\n",
            "Trainable params: 7,152\n",
            "Non-trainable params: 0\n",
            "----------------------------------------------------------------\n",
            "Input size (MB): 0.00\n",
            "Forward/backward pass size (MB): 0.35\n",
            "Params size (MB): 0.03\n",
            "Estimated Total Size (MB): 0.38\n",
            "----------------------------------------------------------------\n"
          ]
        },
        {
          "name": "stderr",
          "output_type": "stream",
          "text": [
            "WARNING: Skipping C:\\Users\\chaitra.saik\\AppData\\Local\\miniconda3\\Lib\\site-packages\\torch-2.2.0.dist-info due to invalid metadata entry 'name'\n",
            "WARNING: Skipping C:\\Users\\chaitra.saik\\AppData\\Local\\miniconda3\\Lib\\site-packages\\torch-2.2.0.dist-info due to invalid metadata entry 'name'\n",
            "\n",
            "[notice] A new release of pip is available: 24.0 -> 24.3.1\n",
            "[notice] To update, run: python.exe -m pip install --upgrade pip\n"
          ]
        }
      ],
      "source": [
        "!pip install torchsummary\n",
        "from torchsummary import summary\n",
        "use_cuda = torch.cuda.is_available()\n",
        "device = torch.device(\"cuda\" if use_cuda else \"cpu\")\n",
        "print(device)\n",
        "# model = Net().to(device)\n",
        "model = models.Model_1_Simple_CNN_Architecture().to(device)\n",
        "summary(model, input_size=(1, 28, 28))"
      ]
    },
    {
      "cell_type": "markdown",
      "metadata": {
        "id": "1__x_SbrL7z3"
      },
      "source": [
        "# Training and Testing\n",
        "\n",
        "Looking at logs can be boring, so we'll introduce **tqdm** progressbar to get cooler logs.\n",
        "\n",
        "Let's write train and test functions"
      ]
    },
    {
      "cell_type": "code",
      "execution_count": 10,
      "metadata": {},
      "outputs": [],
      "source": [
        "model = models.Model_1_Simple_CNN_Architecture().to(device)\n",
        "optimizer = optim.AdamW(model.parameters(), lr=0.01, weight_decay=1e-4) # defining the optimizer with leraning rate of 0.01\n",
        "# scheduler = optim.lr_scheduler.CosineAnnealingWarmRestarts(\n",
        "#     optimizer,\n",
        "#     T_0=4,  # Initial restart interval\n",
        "#     T_mult=1,  # Multiplier for restart interval\n",
        "#     eta_min=1e-6  # Minimum learning rate\n",
        "# )\n",
        "\n",
        "# Using the OneCycleLR scheduler for dynamic learning rate adjustment.\n",
        "scheduler = optim.lr_scheduler.OneCycleLR(\n",
        "    optimizer,\n",
        "    max_lr=0.01,  # Maximum learning rate during the cycle.\n",
        "    epochs=15,  # Total number of epochs for training.\n",
        "    steps_per_epoch=len(train_loader),  # Number of steps in one epoch (based on train loader size).\n",
        "    pct_start=0.2,  # Percentage of the cycle for increasing the learning rate.\n",
        "    div_factor=10,  # Factor by which the initial learning rate is divided from max_lr.\n",
        "    final_div_factor=100,  # Factor by which the learning rate is reduced at the end of the cycle.\n",
        ")\n",
        "\n"
      ]
    },
    {
      "cell_type": "code",
      "execution_count": 11,
      "metadata": {
        "id": "fbkF2nN_LYIb"
      },
      "outputs": [],
      "source": [
        "from tqdm import tqdm\n",
        "\n",
        "train_losses = []\n",
        "test_losses = []\n",
        "train_acc = []\n",
        "test_acc = []\n",
        "\n",
        "def train(model, device, train_loader, optimizer, epoch):\n",
        "  model.train()\n",
        "  pbar = tqdm(train_loader)\n",
        "  correct = 0\n",
        "  processed = 0\n",
        "  for batch_idx, (data, target) in enumerate(pbar):\n",
        "    # get samples\n",
        "    data, target = data.to(device), target.to(device)\n",
        "\n",
        "    # Init\n",
        "    optimizer.zero_grad()\n",
        "    # In PyTorch, we need to set the gradients to zero before starting to do backpropragation because PyTorch accumulates the gradients on subsequent backward passes.\n",
        "    # Because of this, when you start your training loop, ideally you should zero out the gradients so that you do the parameter update correctly.\n",
        "\n",
        "    # Predict\n",
        "    y_pred = model(data)\n",
        "\n",
        "    # Calculate loss\n",
        "    loss = F.nll_loss(y_pred, target)\n",
        "    train_losses.append(loss)\n",
        "\n",
        "    # Backpropagation\n",
        "    loss.backward()\n",
        "    optimizer.step()\n",
        "    scheduler.step()\n",
        "\n",
        "    # Update pbar-tqdm\n",
        "\n",
        "    pred = y_pred.argmax(dim=1, keepdim=True)  # get the index of the max log-probability\n",
        "    correct += pred.eq(target.view_as(pred)).sum().item()\n",
        "    processed += len(data)\n",
        "\n",
        "    pbar.set_description(desc= f'Loss={loss.item()} Batch_id={batch_idx} Accuracy={100*correct/processed:0.2f}')\n",
        "    train_acc.append(100*correct/processed)\n",
        "\n",
        "def test(model, device, test_loader):\n",
        "    model.eval()\n",
        "    test_loss = 0\n",
        "    correct = 0\n",
        "    with torch.no_grad():\n",
        "        for data, target in test_loader:\n",
        "            data, target = data.to(device), target.to(device)\n",
        "            output = model(data)\n",
        "            test_loss += F.nll_loss(output, target, reduction='sum').item()  # sum up batch loss\n",
        "            pred = output.argmax(dim=1, keepdim=True)  # get the index of the max log-probability\n",
        "            correct += pred.eq(target.view_as(pred)).sum().item()\n",
        "\n",
        "    test_loss /= len(test_loader.dataset)\n",
        "    test_losses.append(test_loss)\n",
        "\n",
        "    print('\\nTest set: Average loss: {:.4f}, Accuracy: {}/{} ({:.2f}%)\\n'.format(\n",
        "        test_loss, correct, len(test_loader.dataset),\n",
        "        100. * correct / len(test_loader.dataset)))\n",
        "\n",
        "    test_acc.append(100. * correct / len(test_loader.dataset))"
      ]
    },
    {
      "cell_type": "code",
      "execution_count": 12,
      "metadata": {
        "colab": {
          "base_uri": "https://localhost:8080/"
        },
        "id": "aE5Le6FYHhc8",
        "outputId": "a0178258-31c3-4644-b93f-a93181ad1760"
      },
      "outputs": [
        {
          "name": "stdout",
          "output_type": "stream",
          "text": [
            "EPOCH: 0\n"
          ]
        },
        {
          "name": "stderr",
          "output_type": "stream",
          "text": [
            "Loss=0.6444212794303894 Batch_id=937 Accuracy=63.52: 100%|██████████| 938/938 [00:40<00:00, 22.97it/s] \n"
          ]
        },
        {
          "name": "stdout",
          "output_type": "stream",
          "text": [
            "\n",
            "Test set: Average loss: 0.7615, Accuracy: 7355/10000 (73.55%)\n",
            "\n",
            "EPOCH: 1\n"
          ]
        },
        {
          "name": "stderr",
          "output_type": "stream",
          "text": [
            "Loss=0.7068154215812683 Batch_id=937 Accuracy=75.58: 100%|██████████| 938/938 [00:40<00:00, 23.28it/s] \n"
          ]
        },
        {
          "name": "stdout",
          "output_type": "stream",
          "text": [
            "\n",
            "Test set: Average loss: 0.6018, Accuracy: 7711/10000 (77.11%)\n",
            "\n",
            "EPOCH: 2\n"
          ]
        },
        {
          "name": "stderr",
          "output_type": "stream",
          "text": [
            "Loss=0.6498732566833496 Batch_id=937 Accuracy=77.66: 100%|██████████| 938/938 [00:40<00:00, 23.33it/s] \n"
          ]
        },
        {
          "name": "stdout",
          "output_type": "stream",
          "text": [
            "\n",
            "Test set: Average loss: 0.5631, Accuracy: 7800/10000 (78.00%)\n",
            "\n",
            "EPOCH: 3\n"
          ]
        },
        {
          "name": "stderr",
          "output_type": "stream",
          "text": [
            "Loss=0.3545251488685608 Batch_id=937 Accuracy=78.33: 100%|██████████| 938/938 [00:40<00:00, 23.31it/s] \n"
          ]
        },
        {
          "name": "stdout",
          "output_type": "stream",
          "text": [
            "\n",
            "Test set: Average loss: 0.5480, Accuracy: 7832/10000 (78.32%)\n",
            "\n",
            "EPOCH: 4\n"
          ]
        },
        {
          "name": "stderr",
          "output_type": "stream",
          "text": [
            "Loss=0.41919001936912537 Batch_id=937 Accuracy=78.41: 100%|██████████| 938/938 [00:39<00:00, 23.64it/s]\n"
          ]
        },
        {
          "name": "stdout",
          "output_type": "stream",
          "text": [
            "\n",
            "Test set: Average loss: 0.5392, Accuracy: 7852/10000 (78.52%)\n",
            "\n",
            "EPOCH: 5\n"
          ]
        },
        {
          "name": "stderr",
          "output_type": "stream",
          "text": [
            "Loss=0.3848263919353485 Batch_id=937 Accuracy=78.52: 100%|██████████| 938/938 [00:40<00:00, 23.30it/s] \n"
          ]
        },
        {
          "name": "stdout",
          "output_type": "stream",
          "text": [
            "\n",
            "Test set: Average loss: 0.5389, Accuracy: 7828/10000 (78.28%)\n",
            "\n",
            "EPOCH: 6\n"
          ]
        },
        {
          "name": "stderr",
          "output_type": "stream",
          "text": [
            "Loss=0.6066715717315674 Batch_id=937 Accuracy=78.72: 100%|██████████| 938/938 [00:39<00:00, 23.95it/s] \n"
          ]
        },
        {
          "name": "stdout",
          "output_type": "stream",
          "text": [
            "\n",
            "Test set: Average loss: 0.5222, Accuracy: 7865/10000 (78.65%)\n",
            "\n",
            "EPOCH: 7\n"
          ]
        },
        {
          "name": "stderr",
          "output_type": "stream",
          "text": [
            "Loss=0.30118823051452637 Batch_id=937 Accuracy=78.89: 100%|██████████| 938/938 [00:39<00:00, 23.54it/s]\n"
          ]
        },
        {
          "name": "stdout",
          "output_type": "stream",
          "text": [
            "\n",
            "Test set: Average loss: 0.5159, Accuracy: 7882/10000 (78.82%)\n",
            "\n",
            "EPOCH: 8\n"
          ]
        },
        {
          "name": "stderr",
          "output_type": "stream",
          "text": [
            "Loss=0.629810094833374 Batch_id=937 Accuracy=79.17: 100%|██████████| 938/938 [00:39<00:00, 23.83it/s]  \n"
          ]
        },
        {
          "name": "stdout",
          "output_type": "stream",
          "text": [
            "\n",
            "Test set: Average loss: 0.5134, Accuracy: 7880/10000 (78.80%)\n",
            "\n",
            "EPOCH: 9\n"
          ]
        },
        {
          "name": "stderr",
          "output_type": "stream",
          "text": [
            "Loss=0.30702367424964905 Batch_id=937 Accuracy=79.29: 100%|██████████| 938/938 [00:39<00:00, 23.74it/s]\n"
          ]
        },
        {
          "name": "stdout",
          "output_type": "stream",
          "text": [
            "\n",
            "Test set: Average loss: 0.5041, Accuracy: 7915/10000 (79.15%)\n",
            "\n",
            "EPOCH: 10\n"
          ]
        },
        {
          "name": "stderr",
          "output_type": "stream",
          "text": [
            "Loss=0.2982425391674042 Batch_id=937 Accuracy=79.54: 100%|██████████| 938/938 [00:39<00:00, 23.56it/s] \n"
          ]
        },
        {
          "name": "stdout",
          "output_type": "stream",
          "text": [
            "\n",
            "Test set: Average loss: 0.5082, Accuracy: 7903/10000 (79.03%)\n",
            "\n",
            "EPOCH: 11\n"
          ]
        },
        {
          "name": "stderr",
          "output_type": "stream",
          "text": [
            "Loss=0.43372538685798645 Batch_id=937 Accuracy=79.64: 100%|██████████| 938/938 [00:39<00:00, 23.54it/s]\n"
          ]
        },
        {
          "name": "stdout",
          "output_type": "stream",
          "text": [
            "\n",
            "Test set: Average loss: 0.5019, Accuracy: 7913/10000 (79.13%)\n",
            "\n",
            "EPOCH: 12\n"
          ]
        },
        {
          "name": "stderr",
          "output_type": "stream",
          "text": [
            "Loss=0.5799878239631653 Batch_id=937 Accuracy=79.86: 100%|██████████| 938/938 [00:37<00:00, 25.23it/s] \n"
          ]
        },
        {
          "name": "stdout",
          "output_type": "stream",
          "text": [
            "\n",
            "Test set: Average loss: 0.4992, Accuracy: 7913/10000 (79.13%)\n",
            "\n",
            "EPOCH: 13\n"
          ]
        },
        {
          "name": "stderr",
          "output_type": "stream",
          "text": [
            "Loss=0.363961398601532 Batch_id=937 Accuracy=79.98: 100%|██████████| 938/938 [00:37<00:00, 24.70it/s]  \n"
          ]
        },
        {
          "name": "stdout",
          "output_type": "stream",
          "text": [
            "\n",
            "Test set: Average loss: 0.5006, Accuracy: 7929/10000 (79.29%)\n",
            "\n",
            "EPOCH: 14\n"
          ]
        },
        {
          "name": "stderr",
          "output_type": "stream",
          "text": [
            "Loss=0.5763484835624695 Batch_id=937 Accuracy=80.05: 100%|██████████| 938/938 [00:39<00:00, 23.99it/s] \n"
          ]
        },
        {
          "name": "stdout",
          "output_type": "stream",
          "text": [
            "\n",
            "Test set: Average loss: 0.4999, Accuracy: 7929/10000 (79.29%)\n",
            "\n"
          ]
        }
      ],
      "source": [
        "EPOCHS = 15\n",
        "for epoch in range(EPOCHS):\n",
        "    print(\"EPOCH:\", epoch)\n",
        "    train(model, device, train_loader, optimizer, epoch)\n",
        "    \n",
        "    test(model, device, test_loader)\n",
        "    # scheduler.step() # If in case of Cosine Annealing Warm, or based on other scheduler, scheduler.step.() has to uncommented. \n",
        "    "
      ]
    },
    {
      "cell_type": "code",
      "execution_count": null,
      "metadata": {},
      "outputs": [],
      "source": []
    }
  ],
  "metadata": {
    "accelerator": "GPU",
    "colab": {
      "provenance": []
    },
    "kernelspec": {
      "display_name": "base",
      "language": "python",
      "name": "python3"
    },
    "language_info": {
      "codemirror_mode": {
        "name": "ipython",
        "version": 3
      },
      "file_extension": ".py",
      "mimetype": "text/x-python",
      "name": "python",
      "nbconvert_exporter": "python",
      "pygments_lexer": "ipython3",
      "version": "3.11.5"
    }
  },
  "nbformat": 4,
  "nbformat_minor": 0
}
